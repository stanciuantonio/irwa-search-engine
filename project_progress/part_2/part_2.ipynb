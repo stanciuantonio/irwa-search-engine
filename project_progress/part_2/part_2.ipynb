{
 "cells": [
  {
   "cell_type": "markdown",
   "id": "86fb22d7",
   "metadata": {},
   "source": [
    "# Part 1: Indexing"
   ]
  },
  {
   "cell_type": "code",
   "execution_count": 27,
   "id": "b3a25d69",
   "metadata": {},
   "outputs": [],
   "source": [
    "import os\n",
    "import sys\n",
    "# Add project root to path\n",
    "sys.path.insert(0, os.path.abspath('../../'))\n",
    "\n",
    "# Import preprocessing functions\n",
    "from myapp.preprocessing.text_processing import build_query_terms\n"
   ]
  },
  {
   "cell_type": "code",
   "execution_count": null,
   "id": "b1dc62ae",
   "metadata": {},
   "outputs": [
    {
     "name": "stdout",
     "output_type": "stream",
     "text": [
      "  Total documents: 28080\n",
      "  Sample structure keys: ['pid', 'searchable_text', 'metadata', 'original']\n",
      "  Vocabulary size: 20906\n",
      "  PID accessible at root: True\n",
      "TKPFCZ9EA7H5FYZH\n"
     ]
    }
   ],
   "source": [
    "import pickle\n",
    "\n",
    "cache_path = '../../data/processed/preprocessed_corpus.pkl'\n",
    "\n",
    "with open(cache_path, 'rb') as f:\n",
    "    preprocessed_data = pickle.load(f)\n",
    "\n",
    "sample = preprocessed_data[0]\n",
    "\n",
    "all_tokens = [token for doc in preprocessed_data for token in doc[\"searchable_text\"]]\n",
    "vocabulary = set(all_tokens)\n",
    "\n",
    "print(f\"  Total documents: {len(preprocessed_data)}\")\n",
    "print(f\"  Sample structure keys: {list(sample.keys())}\")\n",
    "print(f\"  Vocabulary size: {len(vocabulary)}\")\n",
    "print(f\"  PID accessible at root: {'pid' in sample}\")"
   ]
  },
  {
   "cell_type": "code",
   "execution_count": 6,
   "id": "9fac85d1",
   "metadata": {},
   "outputs": [
    {
     "name": "stdout",
     "output_type": "stream",
     "text": [
      "  Total indexed terms: 20906\n",
      "  Indexing time: 0.35 seconds\n"
     ]
    }
   ],
   "source": [
    "from collections import defaultdict\n",
    "import time\n",
    "\n",
    "start_time = time.time()\n",
    "term_index = {term: i for i, term in enumerate(vocabulary)}\n",
    "index = defaultdict(set)\n",
    "\n",
    "for i, doc in enumerate(preprocessed_data):\n",
    "\n",
    "    for term in doc['searchable_text']:\n",
    "        term_id = term_index[term]\n",
    "        index[term_id].add(i)\n",
    "\n",
    "print(f\"  Total indexed terms: {len(index)}\")\n",
    "print(f\"  Indexing time: {time.time() - start_time:.2f} seconds\")"
   ]
  },
  {
   "cell_type": "code",
   "execution_count": 40,
   "id": "6ceb5157",
   "metadata": {},
   "outputs": [],
   "source": [
    "def search(query, index):\n",
    "    query = build_query_terms(query)\n",
    "    print(f\"Processed query terms: {query}\")\n",
    "    docs = None\n",
    "    for term in query:\n",
    "        term_id = term_index.get(term)\n",
    "        if term_id in index:\n",
    "            if docs is None:\n",
    "                docs = index[term_id].copy()\n",
    "            else:\n",
    "                docs.intersection_update(index[term_id])\n",
    "        else:\n",
    "            # If any term is not in the index, return an empty result\n",
    "            return []\n",
    "    return list(docs) if docs else []"
   ]
  },
  {
   "cell_type": "code",
   "execution_count": 41,
   "id": "0edf044a",
   "metadata": {},
   "outputs": [
    {
     "name": "stdout",
     "output_type": "stream",
     "text": [
      "Insert your query:\n",
      "Processed query terms: ['cotton', 'sweatshirt']\n",
      "\n",
      "====================\n",
      " Top 10 results for query: 'cotton sweatshirt'\n",
      "  PID: SWSFPGX2M7SXUMP7, Title: Full Sleeve Solid Men Sweatshirt\n",
      "  PID: SWSFUNF6VFJBYZZC, Title: Full Sleeve Printed Men Sweatshirt\n",
      "  PID: SWSFVZPXWGQBHJZT, Title: Full Sleeve Printed Women Sweatshirt\n",
      "  PID: SWSFPHFF4H2EDHRH, Title: Full Sleeve Solid Women Sweatshirt\n",
      "  PID: SWSFPGEZETE9UCZT, Title: Full Sleeve Printed Men Sweatshirt\n",
      "  PID: SWSFTEBYH3YXT3JZ, Title: Full Sleeve Solid Men Sweatshirt\n",
      "  PID: SWSFSUDD247YZBKJ, Title: Full Sleeve Printed Women Sweatshirt\n",
      "  PID: SWSFWE3GFTYKGHJZ, Title: Full Sleeve Graphic Print Women Sweatshirt\n",
      "  PID: SWSFV4E6G62HGJVG, Title: Full Sleeve Printed Women Sweatshirt\n",
      "  PID: SWSFTEBYPNVAVZW7, Title: Full Sleeve Solid Men Sweatshirt\n"
     ]
    }
   ],
   "source": [
    "print(\"Insert your query:\")\n",
    "query = input()\n",
    "results = search(query, index)\n",
    "top = 10\n",
    "\n",
    "print(f\"\\n====================\\n Top {top} results for query: '{query}'\")\n",
    "for doc_id in results[:top]:\n",
    "    doc = preprocessed_data[doc_id]\n",
    "    print(f\"  PID: {doc['pid']}, Title: {doc['original']['title']}\")"
   ]
  }
 ],
 "metadata": {
  "kernelspec": {
   "display_name": "irwa_venv (3.10.9)",
   "language": "python",
   "name": "python3"
  },
  "language_info": {
   "codemirror_mode": {
    "name": "ipython",
    "version": 3
   },
   "file_extension": ".py",
   "mimetype": "text/x-python",
   "name": "python",
   "nbconvert_exporter": "python",
   "pygments_lexer": "ipython3",
   "version": "3.10.9"
  }
 },
 "nbformat": 4,
 "nbformat_minor": 5
}
